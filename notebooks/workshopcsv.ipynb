{
 "cells": [
  {
   "cell_type": "code",
   "execution_count": 1,
   "metadata": {
    "collapsed": true
   },
   "outputs": [],
   "source": [
    "import numpy as np\n",
    "import matplotlib.pyplot as plt\n"
   ]
  },
  {
   "cell_type": "code",
   "execution_count": 11,
   "metadata": {
    "collapsed": false
   },
   "outputs": [
    {
     "name": "stdout",
     "output_type": "stream",
     "text": [
      "(15, 24)\n"
     ]
    },
    {
     "data": {
      "image/png": "[encoded data removed]",
      "text/plain": [
       "<matplotlib.figure.Figure at 0x109ace590>"
      ]
     },
     "metadata": {},
     "output_type": "display_data"
    }
   ],
   "source": [
    "if __name__ == \"__main__\":\n",
    "    \n",
    "    filename = 'lisbon_temperature.csv'\n",
    "    data = np.genfromtxt(filename, delimiter=',')\n",
    "    print data.shape\n",
    "    plt.plot(data[0])\n",
    "    \n",
    "    \n",
    "    \n",
    "    plt.show()"
   ]
  },
  {
   "cell_type": "code",
   "execution_count": 10,
   "metadata": {
    "collapsed": false
   },
   "outputs": [
    {
     "data": {
      "text/plain": [
       "array([[ 16.93,  16.54,  16.29,  16.12,  15.99,  15.83,  15.73,  16.05,\n",
       "         18.11,  20.76,  23.41,  25.5 ,  27.31,  29.89,  30.81,  31.11,\n",
       "         30.78,  29.76,  28.25,  26.59,  24.13,  21.24,  19.11,  18.41],\n",
       "       [ 18.18,  18.16,  18.04,  17.92,  17.75,  17.66,  17.63,  18.05,\n",
       "         20.05,  23.1 ,  26.48,  29.69,  32.31,  33.71,  34.5 ,  34.84,\n",
       "         34.3 ,  33.19,  31.13,  29.22,  26.1 ,  23.06,  20.78,  19.6 ],\n",
       "       [ 18.94,  18.44,  18.27,  18.23,  18.33,  18.19,  17.92,  18.46,\n",
       "         21.1 ,  24.69,  28.24,  31.87,  34.42,  37.06,  37.44,  37.4 ,\n",
       "         36.37,  34.71,  32.97,  31.02,  28.13,  24.5 ,  22.04,  20.86],\n",
       "       [ 20.05,  19.33,  18.92,  18.53,  18.22,  17.82,  17.53,  17.66,\n",
       "         19.65,  21.94,  25.29,  28.61,  31.43,  33.73,  33.58,  33.48,\n",
       "         33.27,  32.29,  30.9 ,  28.94,  26.04,  22.64,  20.24,  19.14],\n",
       "       [ 18.58,  18.02,  17.59,  17.3 ,  17.09,  16.91,  16.83,  17.01,\n",
       "         18.67,  21.2 ,  23.95,  26.33,  29.11,  32.91,  34.41,  34.83,\n",
       "         33.84,  32.31,  30.7 ,  28.9 ,  26.13,  22.87,  20.09,  19.15],\n",
       "       [ 18.29,  17.2 ,  16.15,  15.56,  15.21,  14.99,  14.86,  15.28,\n",
       "         15.38,  16.38,  18.81,  22.69,  25.55,  28.24,  29.05,  29.55,\n",
       "         30.27,  31.01,  30.9 ,  29.17,  25.45,  21.82,  19.3 ,  18.32],\n",
       "       [ 17.78,  16.76,  16.16,  15.82,  15.45,  14.95,  14.41,  14.17,\n",
       "         15.32,  17.32,  19.96,  22.4 ,  24.64,  27.07,  27.93,  28.81,\n",
       "         29.95,  30.29,  29.51,  26.57,  22.65,  19.36,  17.73,  17.31],\n",
       "       [ 16.92,  16.81,  16.66,  16.64,  16.71,  16.71,  16.75,  16.76,\n",
       "         17.15,  18.23,  20.19,  22.85,  25.2 ,  24.8 ,  25.51,  25.48,\n",
       "         25.32,  24.72,  23.82,  22.69,  21.29,  19.53,  18.97,  18.43],\n",
       "       [ 17.84,  17.09,  16.8 ,  16.99,  17.22,  17.45,  17.59,  17.87,\n",
       "         18.41,  19.47,  21.26,  22.4 ,  24.56,  25.5 ,  25.77,  25.72,\n",
       "         25.92,  25.17,  24.05,  22.51,  20.91,  18.78,  17.75,  17.34],\n",
       "       [ 17.1 ,  16.51,  16.27,  16.37,  16.32,  16.11,  16.03,  16.18,\n",
       "         17.71,  19.62,  21.19,  22.4 ,  23.37,  24.55,  24.83,  24.63,\n",
       "         24.26,  23.63,  22.9 ,  21.99,  20.66,  19.15,  18.16,  17.66],\n",
       "       [ 17.39,  17.38,  16.76,  16.69,  16.64,  16.47,  16.26,  16.35,\n",
       "         18.04,  19.82,  21.28,  22.58,  23.59,  24.8 ,  25.28,  25.36,\n",
       "         25.22,  24.78,  24.05,  22.93,  21.54,  19.75,  18.85,  18.22],\n",
       "       [ 17.7 ,  17.33,  17.05,  17.01,  16.88,  16.9 ,  17.17,  17.94,\n",
       "         18.99,  20.22,  22.31,  23.81,  25.28,  26.93,  27.43,  27.41,\n",
       "         26.96,  26.13,  25.07,  23.65,  21.65,  19.24,  17.78,  16.84],\n",
       "       [ 16.47,  16.94,  16.83,  16.67,  16.42,  16.46,  16.35,  16.5 ,\n",
       "         18.19,  20.5 ,  22.43,  24.1 ,  25.66,  28.74,  29.07,  29.15,\n",
       "         28.73,  27.73,  26.38,  24.56,  22.02,  19.44,  18.75,  18.46],\n",
       "       [ 18.19,  18.03,  17.74,  17.58,  17.4 ,  17.3 ,  17.25,  17.37,\n",
       "         18.29,  19.78,  21.4 ,  23.11,  24.87,  27.05,  28.3 ,  28.37,\n",
       "         27.91,  26.94,  25.72,  23.72,  21.6 ,  19.47,  18.83,  18.7 ],\n",
       "       [ 18.6 ,  18.34,  18.06,  17.93,  17.63,  17.36,  17.15,  17.22,\n",
       "         18.6 ,  21.39,  24.94,  28.03,  30.87,  33.22,  33.73,  33.17,\n",
       "         32.28,  30.85,  29.15,  27.32,  24.95,  22.17,  20.51,  19.78]])"
      ]
     },
     "execution_count": 10,
     "metadata": {},
     "output_type": "execute_result"
    }
   ],
   "source": [
    "data"
   ]
  },
  {
   "cell_type": "code",
   "execution_count": null,
   "metadata": {
    "collapsed": true
   },
   "outputs": [],
   "source": []
  }
 ],
 "metadata": {
  "kernelspec": {
   "display_name": "Python [conda root]",
   "language": "python",
   "name": "conda-root-py"
  },
  "language_info": {
   "codemirror_mode": {
    "name": "ipython",
    "version": 2
   },
   "file_extension": ".py",
   "mimetype": "text/x-python",
   "name": "python",
   "nbconvert_exporter": "python",
   "pygments_lexer": "ipython2",
   "version": "2.7.12"
  }
 },
 "nbformat": 4,
 "nbformat_minor": 2
}
